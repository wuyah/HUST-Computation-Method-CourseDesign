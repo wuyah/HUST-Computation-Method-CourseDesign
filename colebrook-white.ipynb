{
 "cells": [
  {
   "cell_type": "markdown",
   "metadata": {},
   "source": [
    "## 公式背景介绍\n",
    "摩阻系数的估计是管道系统设计的一个关键：Colebrook-White方程是计算粗糙管紊流状态时摩阻系数的一个典型方法。\n",
    "\n",
    "Colebrook-White 方程形式如下：\n",
    "$$\n",
    "    \\frac{1}{ \\sqrt{f} }+2lg( \\frac{\\epsilon}{3.7D} + \\frac{2.51}{Re\\sqrt{f}}) = 0\n",
    "$$\n",
    "\n",
    "其中，$\\epsilon$是管道内壁粗糙度，单位为m；D是管道内径，单位为m；Re是Reynoids数，无量纲量，其计算公式为\n",
    "\n",
    "$$\n",
    "    Re = \\frac{\\rho VD}{\\mu}\n",
    "$$\n",
    "其中，$\\rho$是流体的密度，单位为3kg / m；V是流体速度，单位为m/s；$\\mu$是动态粘性，单位为2N·s / $m^3$。Reynoids数是判断流体是否为湍流的条件，只有当Re >400时才为湍流。"
   ]
  },
  {
   "cell_type": "markdown",
   "metadata": {},
   "source": [
    "由文献可得，该公式的显式公式有如下两种方式： \n",
    "$$\n",
    "f = [A-\\frac{(B-A)^2}{C-2B+A}]^{-2}, A = -2\\lg {(\\frac{\\epsilon}{3.7D}+\\frac{12}{Re})}, B =-2\\lg {(\\frac{\\epsilon}{3.7D}+\\frac{2.51A}{Re})}, C =-2\\lg {(\\frac{\\epsilon}{3.7D}+\\frac{2.51B}{Re})}\n",
    "$$\n",
    "\n",
    "$$\n",
    "\\frac{1}{\\sqrt{f}} = a[\\ln{(\\frac{d}{q})}+\\delta _{CFA}], a=\\frac{2}{\\ln{10}}, b = \\frac{\\epsilon}{3.7D}, d=\\frac{\\ln{10}}{5.02}Re, q = s^{s/s(s+1)}, s = bd+\\ln{d}\n",
    "$$\n",
    "$$\n",
    "g = (bd+\\ln{\\frac{d}{q}} ), z = \\ln{\\frac{q}{g}}, \\delta _{LA} = \\frac{g}{g+1}z, \\delta _{CFA} = \\delta _{LA}(1+\\frac{z/2}{(g+1)^{2}+(z/3)(2g-1)})\n",
    "$$"
   ]
  },
  {
   "cell_type": "code",
   "execution_count": 141,
   "metadata": {},
   "outputs": [],
   "source": [
    "import math\n",
    "import time"
   ]
  },
  {
   "cell_type": "markdown",
   "metadata": {},
   "source": [
    "## 显式公式"
   ]
  },
  {
   "cell_type": "code",
   "execution_count": 142,
   "metadata": {},
   "outputs": [],
   "source": [
    "## 首先根据显式公式写出显示求解公式：\n",
    "# 采用论文2中的数据进行计算。\n",
    "def expilict_2(eps, D, Re=5813924.33689002):\n",
    "    a = 2/math.log(10)\n",
    "    b = eps/(3.7*D)\n",
    "    d =( math.log(10)/5.02)*Re\n",
    "    s = b*d+math.log(d)\n",
    "    q = s**(s/(s+1))\n",
    "    g = (b*d+math.log(d/q))\n",
    "    z = math.log(q/g)\n",
    "    delta = (g/(g+1))*z\n",
    "    tmp = a*(math.log(d/q)+delta)\n",
    "    return (1/tmp)**2\n",
    "\n",
    "def expilict_3(eps, D, Re=5813924.33689002):\n",
    "    # eps: \\epsilon, D: D, Re: Re\n",
    "    # 以下是计算过程\n",
    "    a = 2/math.log(10)\n",
    "    b = eps/(3.7*D)\n",
    "    d =( math.log(10)/5.02)*Re\n",
    "    s = b*d+math.log(d)\n",
    "    q = s**(s/(s+1))\n",
    "    g = (b*d+math.log(d/q))\n",
    "    z = math.log(q/g)\n",
    "    delta = (g/(g+1))*z\n",
    "    delta_CFA = delta*(1+(z/2)/((g+1)**2+(z/3)*(2*g-1)))\n",
    "    tmp = a*(math.log(d/q)+delta_CFA)\n",
    "    return (1/tmp)**2"
   ]
  },
  {
   "cell_type": "code",
   "execution_count": 143,
   "metadata": {},
   "outputs": [
    {
     "name": "stdout",
     "output_type": "stream",
     "text": [
      "0.010503364012369827\n",
      "0.010503363998367649\n"
     ]
    }
   ],
   "source": [
    "# 计算显示方程，与论文中的数据进行对比\n",
    "print(expilict_2(0.00002,0.6))\n",
    "print(expilict_3(0.00002,0.6))"
   ]
  },
  {
   "cell_type": "code",
   "execution_count": 144,
   "metadata": {},
   "outputs": [
    {
     "data": {
      "text/plain": [
       "0.01050336399836"
      ]
     },
     "execution_count": 144,
     "metadata": {},
     "output_type": "execute_result"
    }
   ],
   "source": [
    "0.0105033639983659 - 10**(-15) * 5.9"
   ]
  },
  {
   "cell_type": "code",
   "execution_count": 145,
   "metadata": {},
   "outputs": [
    {
     "data": {
      "text/plain": [
       "0.01050336399836"
      ]
     },
     "execution_count": 145,
     "metadata": {},
     "output_type": "execute_result"
    }
   ],
   "source": [
    "0.0105033639983677 - 10**(-15) * 7.699"
   ]
  },
  {
   "cell_type": "code",
   "execution_count": 146,
   "metadata": {},
   "outputs": [
    {
     "data": {
      "text/plain": [
       "9.757437806811247"
      ]
     },
     "execution_count": 146,
     "metadata": {},
     "output_type": "execute_result"
    }
   ],
   "source": [
    "1/math.sqrt(0.01050336399836)"
   ]
  },
  {
   "cell_type": "code",
   "execution_count": 147,
   "metadata": {},
   "outputs": [],
   "source": [
    "def c_w(f,eps=0.00002,d=0.6,re=5813924.33689002):\n",
    "    tmp = 2*math.log10( eps/(3.7*d)+2.51/( re*math.sqrt(f)) )\n",
    "    return (1/(math.sqrt(f)))+ tmp\n",
    "def c_w_t(t,eps=0.00002,d=0.6,re=5813924.33689002):\n",
    "    tmp = 2*math.log10( eps/(3.7*d)+2.51*t/ re )\n",
    "    return t+ tmp"
   ]
  },
  {
   "cell_type": "code",
   "execution_count": 148,
   "metadata": {},
   "outputs": [
    {
     "data": {
      "text/plain": [
       "3.652189661806915e-12"
      ]
     },
     "execution_count": 148,
     "metadata": {},
     "output_type": "execute_result"
    }
   ],
   "source": [
    "c_w_t(9.757437806811247)"
   ]
  },
  {
   "cell_type": "code",
   "execution_count": 149,
   "metadata": {},
   "outputs": [
    {
     "data": {
      "text/plain": [
       "-6.688351206207699e-09"
      ]
     },
     "execution_count": 149,
     "metadata": {},
     "output_type": "execute_result"
    }
   ],
   "source": [
    "c_w(0.010503364012369827)"
   ]
  },
  {
   "cell_type": "code",
   "execution_count": 150,
   "metadata": {},
   "outputs": [],
   "source": [
    "from matplotlib import pyplot as plt\n",
    "import numpy as np"
   ]
  },
  {
   "cell_type": "code",
   "execution_count": 151,
   "metadata": {},
   "outputs": [
    {
     "data": {
      "image/png": "[encoded data removed]",
      "text/plain": [
       "<Figure size 640x480 with 1 Axes>"
      ]
     },
     "metadata": {},
     "output_type": "display_data"
    }
   ],
   "source": [
    "x = np.arange(0.0001,0.2,0.0001)\n",
    "y = [c_w(i) for i in x]\n",
    "y_0 = np.zeros(x.shape)\n",
    "plt.plot(x,y)\n",
    "plt.plot(x, y_0)\n",
    "plt.xlabel(\"f\")\n",
    "plt.ylabel(\"f(y)\")\n",
    "plt.title(\"Fig 1: Image of function\")\n",
    "plt.show()"
   ]
  },
  {
   "cell_type": "markdown",
   "metadata": {},
   "source": [
    "可得正常的函数图像，由此可知，函数是在0点趋向无穷大的"
   ]
  },
  {
   "cell_type": "code",
   "execution_count": 152,
   "metadata": {},
   "outputs": [
    {
     "data": {
      "text/plain": [
       "0.0016072492313661257"
      ]
     },
     "execution_count": 152,
     "metadata": {},
     "output_type": "execute_result"
    }
   ],
   "source": [
    "c_w(0.0105)"
   ]
  },
  {
   "cell_type": "code",
   "execution_count": 165,
   "metadata": {},
   "outputs": [],
   "source": [
    "ks = [i for i in range(46)]\n",
    "y_all = [[0 for _ in range(46)] for _ in range(6)]"
   ]
  },
  {
   "cell_type": "code",
   "execution_count": 154,
   "metadata": {},
   "outputs": [
    {
     "name": "stdout",
     "output_type": "stream",
     "text": [
      "0\n"
     ]
    }
   ],
   "source": [
    "print(y_all[0][0])"
   ]
  },
  {
   "cell_type": "markdown",
   "metadata": {},
   "source": [
    "## 二分法"
   ]
  },
  {
   "cell_type": "code",
   "execution_count": 166,
   "metadata": {},
   "outputs": [],
   "source": [
    "# ------二分法------\n",
    "\n",
    "# 假定左侧一定为负数\n",
    "# left 是左侧边界，right是右侧边界\n",
    "def bi(left, right, e,func):\n",
    "    start = time.time()\n",
    "    mid = (left+right)/2\n",
    "    k = 0\n",
    "    m = 1+(math.log(right-left)-math.log(2*e))//math.log(2)\n",
    "    dotPath = [mid]\n",
    "    times = [0]\n",
    "    while k<=m:\n",
    "        # 中间值大于0, 则根应当在左侧，需要更新右侧区间\n",
    "        if func(mid) == 0:\n",
    "            mid = mid\n",
    "            return k, mid\n",
    "        elif func(left)*func(mid) < 0:\n",
    "            right = (left+right)/2\n",
    "        else:\n",
    "            left = (left+right)/2\n",
    "        mid = (left+right)/2\n",
    "        dotPath.append(mid)\n",
    "        k+= 1\n",
    "        times.append(k)\n",
    "    y = [func(i) for i in dotPath]\n",
    "    print(y)\n",
    "    \n",
    "    for i in range(len(y)):\n",
    "        y_all[0][i] = y[i]\n",
    "    print(y_all)\n",
    "    # print(\"Run time is:\", time.time()-start)\n",
    "\n",
    "    # plt.plot(times, y)\n",
    "    # plt.xlabel(\"k\")\n",
    "    # plt.ylabel(\"f(x)\")\n",
    "    # plt.title(\"Fig2: Bisection Method k-f(x) image\")\n",
    "    # plt.plot(times, [0]*len(dotPath))\n",
    "    # plt.show()\n",
    "    return mid,k"
   ]
  },
  {
   "cell_type": "code",
   "execution_count": 167,
   "metadata": {},
   "outputs": [
    {
     "name": "stdout",
     "output_type": "stream",
     "text": [
      "[0.24684526458393385, -1.6395550963330692, -0.8379210849841527, -0.3406241983042353, -0.0598029986535451, 0.0900497684017445, 0.014287893698153198, -0.022962564897515136, -0.004389063420823902, 0.0049364231689938975, 0.00027043941392079773, -0.0020601211796371643, -0.0008950432941432496, -0.0003123525575983166, -2.0969228044620536e-05, 0.00012473192865591898, 5.1880559265526927e-05, 1.5455467853087157e-05, -2.7569295344420652e-06, 6.349256798543479e-06, 1.7961605411898063e-06, -4.803852693413546e-07, 6.578874423013303e-07, 8.87510385183532e-08, -1.9581712784599858e-07, -5.353304821653637e-08, 1.7608995150908413e-08, -1.796202653281398e-08, -1.765148027743635e-10, 8.716240174067025e-09, 4.269862685646331e-09, 2.0466739414359836e-09, 9.3507956933081e-10, 3.792806069213839e-10, 1.013837902519299e-10, -3.75663944396365e-11, 3.19086979061467e-11, -2.8279600883251987e-12, 1.453948073049105e-11, 5.856648499502626e-12, 1.5134560271690134e-12, -6.572520305780927e-13, 4.263256414560601e-13, -1.1368683772161603e-13, 1.5631940186722204e-13, 1.9539925233402755e-14]\n",
      "[[0.24684526458393385, -1.6395550963330692, -0.8379210849841527, -0.3406241983042353, -0.0598029986535451, 0.0900497684017445, 0.014287893698153198, -0.022962564897515136, -0.004389063420823902, 0.0049364231689938975, 0.00027043941392079773, -0.0020601211796371643, -0.0008950432941432496, -0.0003123525575983166, -2.0969228044620536e-05, 0.00012473192865591898, 5.1880559265526927e-05, 1.5455467853087157e-05, -2.7569295344420652e-06, 6.349256798543479e-06, 1.7961605411898063e-06, -4.803852693413546e-07, 6.578874423013303e-07, 8.87510385183532e-08, -1.9581712784599858e-07, -5.353304821653637e-08, 1.7608995150908413e-08, -1.796202653281398e-08, -1.765148027743635e-10, 8.716240174067025e-09, 4.269862685646331e-09, 2.0466739414359836e-09, 9.3507956933081e-10, 3.792806069213839e-10, 1.013837902519299e-10, -3.75663944396365e-11, 3.19086979061467e-11, -2.8279600883251987e-12, 1.453948073049105e-11, 5.856648499502626e-12, 1.5134560271690134e-12, -6.572520305780927e-13, 4.263256414560601e-13, -1.1368683772161603e-13, 1.5631940186722204e-13, 1.9539925233402755e-14], [0, 0, 0, 0, 0, 0, 0, 0, 0, 0, 0, 0, 0, 0, 0, 0, 0, 0, 0, 0, 0, 0, 0, 0, 0, 0, 0, 0, 0, 0, 0, 0, 0, 0, 0, 0, 0, 0, 0, 0, 0, 0, 0, 0, 0, 0], [0, 0, 0, 0, 0, 0, 0, 0, 0, 0, 0, 0, 0, 0, 0, 0, 0, 0, 0, 0, 0, 0, 0, 0, 0, 0, 0, 0, 0, 0, 0, 0, 0, 0, 0, 0, 0, 0, 0, 0, 0, 0, 0, 0, 0, 0], [0, 0, 0, 0, 0, 0, 0, 0, 0, 0, 0, 0, 0, 0, 0, 0, 0, 0, 0, 0, 0, 0, 0, 0, 0, 0, 0, 0, 0, 0, 0, 0, 0, 0, 0, 0, 0, 0, 0, 0, 0, 0, 0, 0, 0, 0], [0, 0, 0, 0, 0, 0, 0, 0, 0, 0, 0, 0, 0, 0, 0, 0, 0, 0, 0, 0, 0, 0, 0, 0, 0, 0, 0, 0, 0, 0, 0, 0, 0, 0, 0, 0, 0, 0, 0, 0, 0, 0, 0, 0, 0, 0], [0, 0, 0, 0, 0, 0, 0, 0, 0, 0, 0, 0, 0, 0, 0, 0, 0, 0, 0, 0, 0, 0, 0, 0, 0, 0, 0, 0, 0, 0, 0, 0, 0, 0, 0, 0, 0, 0, 0, 0, 0, 0, 0, 0, 0, 0]]\n"
     ]
    },
    {
     "data": {
      "text/plain": [
       "(0.010503363998367606, 45)"
      ]
     },
     "execution_count": 167,
     "metadata": {},
     "output_type": "execute_result"
    }
   ],
   "source": [
    "bi(0.00001,0.02, 10**(-15), c_w)"
   ]
  },
  {
   "cell_type": "markdown",
   "metadata": {},
   "source": []
  },
  {
   "cell_type": "code",
   "execution_count": null,
   "metadata": {},
   "outputs": [],
   "source": []
  },
  {
   "cell_type": "code",
   "execution_count": 157,
   "metadata": {},
   "outputs": [],
   "source": [
    "from scipy.misc import derivative"
   ]
  },
  {
   "cell_type": "markdown",
   "metadata": {},
   "source": [
    "## 弦截法"
   ]
  },
  {
   "cell_type": "code",
   "execution_count": 158,
   "metadata": {},
   "outputs": [],
   "source": [
    "# 弦截法\n",
    "def secant(x0,x1, tol,func):\n",
    "    start = time.time()\n",
    "    x2 = x1 - (x1-x0)*func(x1)/(func(x1)-func(x0))\n",
    "    y_all[1][0] = c_w(x0)\n",
    "    ys = [func(x2)]\n",
    "    k = 1\n",
    "    ks = [k]\n",
    "    while abs(x2-x1)>=tol:\n",
    "        x0 = x1\n",
    "        x1 = x2\n",
    "        x2 = x1 - (x1-x0)*func(x1)/(func(x1)-func(x0))\n",
    "        k+=1\n",
    "        ks.append(k)\n",
    "        ys.append(func(x2))    \n",
    "    print(\"Run time is:\", time.time()-start)\n",
    "    for i in range(len(ys)):\n",
    "        y_all[1][i+1] = ys[i]\n",
    "    plt.plot(ks,ys)\n",
    "    plt.plot(ks,[0]*len(ks))\n",
    "    plt.xlabel(\"k\")\n",
    "    plt.ylabel(\"f(x)\")\n",
    "    plt.title(\"Fig3: Secant Method k-f(x) image\")\n",
    "    plt.show()\n",
    "    return x2,k\n"
   ]
  },
  {
   "cell_type": "code",
   "execution_count": 159,
   "metadata": {},
   "outputs": [
    {
     "name": "stdout",
     "output_type": "stream",
     "text": [
      "0.010594738060244087\n"
     ]
    }
   ],
   "source": [
    "x0 = 0.0001 \n",
    "x1 = 0.0106\n",
    "x2 = x1 - (x1-x0)*c_w(x1)/(c_w(x1)-c_w(x0))\n",
    "print(x2)"
   ]
  },
  {
   "cell_type": "code",
   "execution_count": null,
   "metadata": {},
   "outputs": [],
   "source": []
  },
  {
   "cell_type": "code",
   "execution_count": 168,
   "metadata": {},
   "outputs": [
    {
     "name": "stdout",
     "output_type": "stream",
     "text": [
      "Run time is: 0.0\n"
     ]
    },
    {
     "data": {
      "image/png": "[encoded data removed]",
      "text/plain": [
       "<Figure size 640x480 with 1 Axes>"
      ]
     },
     "metadata": {},
     "output_type": "display_data"
    },
    {
     "data": {
      "text/plain": [
       "(0.010503363998367649, 12)"
      ]
     },
     "execution_count": 168,
     "metadata": {},
     "output_type": "execute_result"
    }
   ],
   "source": [
    "secant(0.0001,0.02,10**(-323),c_w)"
   ]
  },
  {
   "cell_type": "code",
   "execution_count": 161,
   "metadata": {},
   "outputs": [
    {
     "name": "stdout",
     "output_type": "stream",
     "text": [
      "[[0.24684526458393385, -1.6395550963330692, -0.8379210849841527, -0.3406241983042353, -0.0598029986535451, 0.0900497684017445, 0.014287893698153198, -0.022962564897515136, -0.004389063420823902, 0.0049364231689938975, 0.00027043941392079773, -0.0020601211796371643, -0.0008950432941432496, -0.0003123525575983166, -2.0969228044620536e-05, 0.00012473192865591898, 5.1880559265526927e-05, 1.5455467853087157e-05, -2.7569295344420652e-06, 6.349256798543479e-06, 1.7961605411898063e-06, -4.803852693413546e-07, 6.578874423013303e-07, 8.87510385183532e-08, -1.9581712784599858e-07, -5.353304821653637e-08, 1.7608995150908413e-08, -1.796202653281398e-08, -1.765148027743635e-10, 8.716240174067025e-09, 4.269862685646331e-09, 2.0466739414359836e-09, 9.3507956933081e-10, 3.792806069213839e-10, 1.013837902519299e-10, -3.75663944396365e-11, 3.19086979061467e-11, -2.8279600883251987e-12, 1.453948073049105e-11, 5.856648499502626e-12, 1.5134560271690134e-12, -6.572520305780927e-13, 4.263256414560601e-13, -1.1368683772161603e-13, 1.5631940186722204e-13, 1.9539925233402755e-14], [91.43502854859295, -2.657216422811186, 4.278826490535847, -1.3291219379165948, -0.5947728080118804, 0.15822186498522584, -0.014874274708773783, -0.00034423996689803005, 7.64729735536207e-07, -3.923972258235153e-11, 1.7763568394002505e-15, 0.0, 0.0, 0, 0, 0, 0, 0, 0, 0, 0, 0, 0, 0, 0, 0, 0, 0, 0, 0, 0, 0, 0, 0, 0, 0, 0, 0, 0, 0, 0, 0, 0, 0, 0, 0], [0, 0, 0, 0, 0, 0, 0, 0, 0, 0, 0, 0, 0, 0, 0, 0, 0, 0, 0, 0, 0, 0, 0, 0, 0, 0, 0, 0, 0, 0, 0, 0, 0, 0, 0, 0, 0, 0, 0, 0, 0, 0, 0, 0, 0, 0], [0, 0, 0, 0, 0, 0, 0, 0, 0, 0, 0, 0, 0, 0, 0, 0, 0, 0, 0, 0, 0, 0, 0, 0, 0, 0, 0, 0, 0, 0, 0, 0, 0, 0, 0, 0, 0, 0, 0, 0, 0, 0, 0, 0, 0, 0], [0, 0, 0, 0, 0, 0, 0, 0, 0, 0, 0, 0, 0, 0, 0, 0, 0, 0, 0, 0, 0, 0, 0, 0, 0, 0, 0, 0, 0, 0, 0, 0, 0, 0, 0, 0, 0, 0, 0, 0, 0, 0, 0, 0, 0, 0], [0, 0, 0, 0, 0, 0, 0, 0, 0, 0, 0, 0, 0, 0, 0, 0, 0, 0, 0, 0, 0, 0, 0, 0, 0, 0, 0, 0, 0, 0, 0, 0, 0, 0, 0, 0, 0, 0, 0, 0, 0, 0, 0, 0, 0, 0]]\n"
     ]
    }
   ],
   "source": [
    "print(y_all)"
   ]
  },
  {
   "cell_type": "code",
   "execution_count": 162,
   "metadata": {},
   "outputs": [
    {
     "name": "stdout",
     "output_type": "stream",
     "text": [
      "1e-323\n"
     ]
    }
   ],
   "source": [
    "print(10**(-323))"
   ]
  },
  {
   "cell_type": "markdown",
   "metadata": {},
   "source": [
    "## Steffensen"
   ]
  },
  {
   "cell_type": "markdown",
   "metadata": {},
   "source": [
    "为什么区域小："
   ]
  },
  {
   "cell_type": "code",
   "execution_count": 163,
   "metadata": {},
   "outputs": [],
   "source": [
    "# Steffensen\n",
    "\n",
    "#x0: 起始位置; tol: 精确值; func: 需要求解的函数\n",
    "def Steffsen(x0,tol,func):\n",
    "    plt.xlabel(\"k\")\n",
    "    plt.ylabel(\"f(x)\")\n",
    "    plt.title(\"Fig4: Steffsen Method k-f(x) image\")\n",
    "    start = time.time()\n",
    "    y0 = func(x0)\n",
    "    x1 = x0 - y0**2/(y0-func(x0-y0))\n",
    "    ys = [y0,func(x1)]\n",
    "    k=1\n",
    "    ks = [0,k]\n",
    "    while abs(x1-x0)>tol:\n",
    "        x0 = x1\n",
    "        y0 = func(x0)\n",
    "\n",
    "        # 避免除0错误\n",
    "        if func(x0) == 0:\n",
    "            # end = time.time()\n",
    "            # plt.plot(ks,ys)\n",
    "            # plt.show()\n",
    "            # print(\"run time is:\", end - start)\n",
    "            for i in range(len(ys)):\n",
    "                y_all[2][i] = ys[i]\n",
    "                print(ys[i])\n",
    "            return k, x0\n",
    "        \n",
    "        x1 = x0 - y0**2/(func(x0)-func(x0-y0))\n",
    "        k += 1\n",
    "        ks.append(k)\n",
    "        ys.append(func(x1))\n",
    "        \n",
    "    print(\"run time is:\", time.time() - start)\n",
    "    # 记录误差\n",
    "    for i in range(len(ys)):\n",
    "        y_all[2][i] = ys[i]\n",
    "        print(ys[i])\n",
    "    # 单步运行输出\n",
    "    # plt.plot(ks,ys)\n",
    "    \n",
    "    # plt.show()\n",
    "    return x1"
   ]
  },
  {
   "cell_type": "code",
   "execution_count": 164,
   "metadata": {},
   "outputs": [
    {
     "ename": "KeyboardInterrupt",
     "evalue": "",
     "output_type": "error",
     "traceback": [
      "\u001b[1;31m---------------------------------------------------------------------------\u001b[0m",
      "\u001b[1;31mKeyboardInterrupt\u001b[0m                         Traceback (most recent call last)",
      "\u001b[1;32m<ipython-input-164-9cdb33b90fd7>\u001b[0m in \u001b[0;36m<module>\u001b[1;34m\u001b[0m\n\u001b[0;32m      7\u001b[0m     \u001b[0mx\u001b[0m\u001b[1;33m+=\u001b[0m\u001b[1;36m1\u001b[0m\u001b[1;33m\u001b[0m\u001b[1;33m\u001b[0m\u001b[0m\n\u001b[0;32m      8\u001b[0m     \u001b[1;32mtry\u001b[0m\u001b[1;33m:\u001b[0m\u001b[1;33m\u001b[0m\u001b[1;33m\u001b[0m\u001b[0m\n\u001b[1;32m----> 9\u001b[1;33m         \u001b[0mSteffsen\u001b[0m\u001b[1;33m(\u001b[0m\u001b[0mi\u001b[0m\u001b[1;33m,\u001b[0m \u001b[1;36m10\u001b[0m\u001b[1;33m**\u001b[0m\u001b[1;33m(\u001b[0m\u001b[1;33m-\u001b[0m\u001b[1;36m15\u001b[0m\u001b[1;33m)\u001b[0m\u001b[1;33m,\u001b[0m \u001b[0mc_w\u001b[0m\u001b[1;33m)\u001b[0m\u001b[1;33m\u001b[0m\u001b[1;33m\u001b[0m\u001b[0m\n\u001b[0m\u001b[0;32m     10\u001b[0m     \u001b[1;32mexcept\u001b[0m \u001b[0mException\u001b[0m \u001b[1;32mas\u001b[0m \u001b[0me\u001b[0m\u001b[1;33m:\u001b[0m\u001b[1;33m\u001b[0m\u001b[1;33m\u001b[0m\u001b[0m\n\u001b[0;32m     11\u001b[0m         \u001b[0merr\u001b[0m\u001b[1;33m+=\u001b[0m\u001b[1;36m1\u001b[0m\u001b[1;33m\u001b[0m\u001b[1;33m\u001b[0m\u001b[0m\n",
      "\u001b[1;32m<ipython-input-163-d7f6a344efae>\u001b[0m in \u001b[0;36mSteffsen\u001b[1;34m(x0, tol, func)\u001b[0m\n\u001b[0;32m      5\u001b[0m     \u001b[0mplt\u001b[0m\u001b[1;33m.\u001b[0m\u001b[0mxlabel\u001b[0m\u001b[1;33m(\u001b[0m\u001b[1;34m\"k\"\u001b[0m\u001b[1;33m)\u001b[0m\u001b[1;33m\u001b[0m\u001b[1;33m\u001b[0m\u001b[0m\n\u001b[0;32m      6\u001b[0m     \u001b[0mplt\u001b[0m\u001b[1;33m.\u001b[0m\u001b[0mylabel\u001b[0m\u001b[1;33m(\u001b[0m\u001b[1;34m\"f(x)\"\u001b[0m\u001b[1;33m)\u001b[0m\u001b[1;33m\u001b[0m\u001b[1;33m\u001b[0m\u001b[0m\n\u001b[1;32m----> 7\u001b[1;33m     \u001b[0mplt\u001b[0m\u001b[1;33m.\u001b[0m\u001b[0mtitle\u001b[0m\u001b[1;33m(\u001b[0m\u001b[1;34m\"Fig4: Steffsen Method k-f(x) image\"\u001b[0m\u001b[1;33m)\u001b[0m\u001b[1;33m\u001b[0m\u001b[1;33m\u001b[0m\u001b[0m\n\u001b[0m\u001b[0;32m      8\u001b[0m     \u001b[0mstart\u001b[0m \u001b[1;33m=\u001b[0m \u001b[0mtime\u001b[0m\u001b[1;33m.\u001b[0m\u001b[0mtime\u001b[0m\u001b[1;33m(\u001b[0m\u001b[1;33m)\u001b[0m\u001b[1;33m\u001b[0m\u001b[1;33m\u001b[0m\u001b[0m\n\u001b[0;32m      9\u001b[0m     \u001b[0my0\u001b[0m \u001b[1;33m=\u001b[0m \u001b[0mfunc\u001b[0m\u001b[1;33m(\u001b[0m\u001b[0mx0\u001b[0m\u001b[1;33m)\u001b[0m\u001b[1;33m\u001b[0m\u001b[1;33m\u001b[0m\u001b[0m\n",
      "\u001b[1;32mc:\\Users\\lussiouserror\\Anaconda3\\lib\\site-packages\\matplotlib\\pyplot.py\u001b[0m in \u001b[0;36mtitle\u001b[1;34m(label, fontdict, loc, pad, y, **kwargs)\u001b[0m\n\u001b[0;32m   3106\u001b[0m \u001b[1;33m@\u001b[0m\u001b[0m_copy_docstring_and_deprecators\u001b[0m\u001b[1;33m(\u001b[0m\u001b[0mAxes\u001b[0m\u001b[1;33m.\u001b[0m\u001b[0mset_title\u001b[0m\u001b[1;33m)\u001b[0m\u001b[1;33m\u001b[0m\u001b[1;33m\u001b[0m\u001b[0m\n\u001b[0;32m   3107\u001b[0m \u001b[1;32mdef\u001b[0m \u001b[0mtitle\u001b[0m\u001b[1;33m(\u001b[0m\u001b[0mlabel\u001b[0m\u001b[1;33m,\u001b[0m \u001b[0mfontdict\u001b[0m\u001b[1;33m=\u001b[0m\u001b[1;32mNone\u001b[0m\u001b[1;33m,\u001b[0m \u001b[0mloc\u001b[0m\u001b[1;33m=\u001b[0m\u001b[1;32mNone\u001b[0m\u001b[1;33m,\u001b[0m \u001b[0mpad\u001b[0m\u001b[1;33m=\u001b[0m\u001b[1;32mNone\u001b[0m\u001b[1;33m,\u001b[0m \u001b[1;33m*\u001b[0m\u001b[1;33m,\u001b[0m \u001b[0my\u001b[0m\u001b[1;33m=\u001b[0m\u001b[1;32mNone\u001b[0m\u001b[1;33m,\u001b[0m \u001b[1;33m**\u001b[0m\u001b[0mkwargs\u001b[0m\u001b[1;33m)\u001b[0m\u001b[1;33m:\u001b[0m\u001b[1;33m\u001b[0m\u001b[1;33m\u001b[0m\u001b[0m\n\u001b[1;32m-> 3108\u001b[1;33m     return gca().set_title(\n\u001b[0m\u001b[0;32m   3109\u001b[0m         label, fontdict=fontdict, loc=loc, pad=pad, y=y, **kwargs)\n\u001b[0;32m   3110\u001b[0m \u001b[1;33m\u001b[0m\u001b[0m\n",
      "\u001b[1;32mc:\\Users\\lussiouserror\\Anaconda3\\lib\\site-packages\\matplotlib\\axes\\_axes.py\u001b[0m in \u001b[0;36mset_title\u001b[1;34m(self, label, fontdict, loc, pad, y, **kwargs)\u001b[0m\n\u001b[0;32m    188\u001b[0m         \u001b[0mself\u001b[0m\u001b[1;33m.\u001b[0m\u001b[0m_set_title_offset_trans\u001b[0m\u001b[1;33m(\u001b[0m\u001b[0mfloat\u001b[0m\u001b[1;33m(\u001b[0m\u001b[0mpad\u001b[0m\u001b[1;33m)\u001b[0m\u001b[1;33m)\u001b[0m\u001b[1;33m\u001b[0m\u001b[1;33m\u001b[0m\u001b[0m\n\u001b[0;32m    189\u001b[0m         \u001b[0mtitle\u001b[0m\u001b[1;33m.\u001b[0m\u001b[0mset_text\u001b[0m\u001b[1;33m(\u001b[0m\u001b[0mlabel\u001b[0m\u001b[1;33m)\u001b[0m\u001b[1;33m\u001b[0m\u001b[1;33m\u001b[0m\u001b[0m\n\u001b[1;32m--> 190\u001b[1;33m         \u001b[0mtitle\u001b[0m\u001b[1;33m.\u001b[0m\u001b[0mupdate\u001b[0m\u001b[1;33m(\u001b[0m\u001b[0mdefault\u001b[0m\u001b[1;33m)\u001b[0m\u001b[1;33m\u001b[0m\u001b[1;33m\u001b[0m\u001b[0m\n\u001b[0m\u001b[0;32m    191\u001b[0m         \u001b[1;32mif\u001b[0m \u001b[0mfontdict\u001b[0m \u001b[1;32mis\u001b[0m \u001b[1;32mnot\u001b[0m \u001b[1;32mNone\u001b[0m\u001b[1;33m:\u001b[0m\u001b[1;33m\u001b[0m\u001b[1;33m\u001b[0m\u001b[0m\n\u001b[0;32m    192\u001b[0m             \u001b[0mtitle\u001b[0m\u001b[1;33m.\u001b[0m\u001b[0mupdate\u001b[0m\u001b[1;33m(\u001b[0m\u001b[0mfontdict\u001b[0m\u001b[1;33m)\u001b[0m\u001b[1;33m\u001b[0m\u001b[1;33m\u001b[0m\u001b[0m\n",
      "\u001b[1;32mc:\\Users\\lussiouserror\\Anaconda3\\lib\\site-packages\\matplotlib\\text.py\u001b[0m in \u001b[0;36mupdate\u001b[1;34m(self, kwargs)\u001b[0m\n\u001b[0;32m    175\u001b[0m         \u001b[1;31m# Update bbox last, as it depends on font properties.\u001b[0m\u001b[1;33m\u001b[0m\u001b[1;33m\u001b[0m\u001b[1;33m\u001b[0m\u001b[0m\n\u001b[0;32m    176\u001b[0m         \u001b[0mbbox\u001b[0m \u001b[1;33m=\u001b[0m \u001b[0mkwargs\u001b[0m\u001b[1;33m.\u001b[0m\u001b[0mpop\u001b[0m\u001b[1;33m(\u001b[0m\u001b[1;34m\"bbox\"\u001b[0m\u001b[1;33m,\u001b[0m \u001b[0msentinel\u001b[0m\u001b[1;33m)\u001b[0m\u001b[1;33m\u001b[0m\u001b[1;33m\u001b[0m\u001b[0m\n\u001b[1;32m--> 177\u001b[1;33m         \u001b[0msuper\u001b[0m\u001b[1;33m(\u001b[0m\u001b[1;33m)\u001b[0m\u001b[1;33m.\u001b[0m\u001b[0mupdate\u001b[0m\u001b[1;33m(\u001b[0m\u001b[0mkwargs\u001b[0m\u001b[1;33m)\u001b[0m\u001b[1;33m\u001b[0m\u001b[1;33m\u001b[0m\u001b[0m\n\u001b[0m\u001b[0;32m    178\u001b[0m         \u001b[1;32mif\u001b[0m \u001b[0mbbox\u001b[0m \u001b[1;32mis\u001b[0m \u001b[1;32mnot\u001b[0m \u001b[0msentinel\u001b[0m\u001b[1;33m:\u001b[0m\u001b[1;33m\u001b[0m\u001b[1;33m\u001b[0m\u001b[0m\n\u001b[0;32m    179\u001b[0m             \u001b[0mself\u001b[0m\u001b[1;33m.\u001b[0m\u001b[0mset_bbox\u001b[0m\u001b[1;33m(\u001b[0m\u001b[0mbbox\u001b[0m\u001b[1;33m)\u001b[0m\u001b[1;33m\u001b[0m\u001b[1;33m\u001b[0m\u001b[0m\n",
      "\u001b[1;32mc:\\Users\\lussiouserror\\Anaconda3\\lib\\site-packages\\matplotlib\\artist.py\u001b[0m in \u001b[0;36mupdate\u001b[1;34m(self, props)\u001b[0m\n\u001b[0;32m    979\u001b[0m         \"\"\"\n\u001b[0;32m    980\u001b[0m         \u001b[0mret\u001b[0m \u001b[1;33m=\u001b[0m \u001b[1;33m[\u001b[0m\u001b[1;33m]\u001b[0m\u001b[1;33m\u001b[0m\u001b[1;33m\u001b[0m\u001b[0m\n\u001b[1;32m--> 981\u001b[1;33m         \u001b[1;32mwith\u001b[0m \u001b[0mcbook\u001b[0m\u001b[1;33m.\u001b[0m\u001b[0m_setattr_cm\u001b[0m\u001b[1;33m(\u001b[0m\u001b[0mself\u001b[0m\u001b[1;33m,\u001b[0m \u001b[0meventson\u001b[0m\u001b[1;33m=\u001b[0m\u001b[1;32mFalse\u001b[0m\u001b[1;33m)\u001b[0m\u001b[1;33m:\u001b[0m\u001b[1;33m\u001b[0m\u001b[1;33m\u001b[0m\u001b[0m\n\u001b[0m\u001b[0;32m    982\u001b[0m             \u001b[1;32mfor\u001b[0m \u001b[0mk\u001b[0m\u001b[1;33m,\u001b[0m \u001b[0mv\u001b[0m \u001b[1;32min\u001b[0m \u001b[0mprops\u001b[0m\u001b[1;33m.\u001b[0m\u001b[0mitems\u001b[0m\u001b[1;33m(\u001b[0m\u001b[1;33m)\u001b[0m\u001b[1;33m:\u001b[0m\u001b[1;33m\u001b[0m\u001b[1;33m\u001b[0m\u001b[0m\n\u001b[0;32m    983\u001b[0m                 \u001b[1;32mif\u001b[0m \u001b[0mk\u001b[0m \u001b[1;33m!=\u001b[0m \u001b[0mk\u001b[0m\u001b[1;33m.\u001b[0m\u001b[0mlower\u001b[0m\u001b[1;33m(\u001b[0m\u001b[1;33m)\u001b[0m\u001b[1;33m:\u001b[0m\u001b[1;33m\u001b[0m\u001b[1;33m\u001b[0m\u001b[0m\n",
      "\u001b[1;32mc:\\Users\\lussiouserror\\Anaconda3\\lib\\contextlib.py\u001b[0m in \u001b[0;36mhelper\u001b[1;34m(*args, **kwds)\u001b[0m\n\u001b[0;32m    238\u001b[0m     \u001b[1;33m@\u001b[0m\u001b[0mwraps\u001b[0m\u001b[1;33m(\u001b[0m\u001b[0mfunc\u001b[0m\u001b[1;33m)\u001b[0m\u001b[1;33m\u001b[0m\u001b[1;33m\u001b[0m\u001b[0m\n\u001b[0;32m    239\u001b[0m     \u001b[1;32mdef\u001b[0m \u001b[0mhelper\u001b[0m\u001b[1;33m(\u001b[0m\u001b[1;33m*\u001b[0m\u001b[0margs\u001b[0m\u001b[1;33m,\u001b[0m \u001b[1;33m**\u001b[0m\u001b[0mkwds\u001b[0m\u001b[1;33m)\u001b[0m\u001b[1;33m:\u001b[0m\u001b[1;33m\u001b[0m\u001b[1;33m\u001b[0m\u001b[0m\n\u001b[1;32m--> 240\u001b[1;33m         \u001b[1;32mreturn\u001b[0m \u001b[0m_GeneratorContextManager\u001b[0m\u001b[1;33m(\u001b[0m\u001b[0mfunc\u001b[0m\u001b[1;33m,\u001b[0m \u001b[0margs\u001b[0m\u001b[1;33m,\u001b[0m \u001b[0mkwds\u001b[0m\u001b[1;33m)\u001b[0m\u001b[1;33m\u001b[0m\u001b[1;33m\u001b[0m\u001b[0m\n\u001b[0m\u001b[0;32m    241\u001b[0m     \u001b[1;32mreturn\u001b[0m \u001b[0mhelper\u001b[0m\u001b[1;33m\u001b[0m\u001b[1;33m\u001b[0m\u001b[0m\n\u001b[0;32m    242\u001b[0m \u001b[1;33m\u001b[0m\u001b[0m\n",
      "\u001b[1;32mc:\\Users\\lussiouserror\\Anaconda3\\lib\\contextlib.py\u001b[0m in \u001b[0;36m__init__\u001b[1;34m(self, func, args, kwds)\u001b[0m\n\u001b[0;32m     84\u001b[0m         \u001b[0mself\u001b[0m\u001b[1;33m.\u001b[0m\u001b[0mfunc\u001b[0m\u001b[1;33m,\u001b[0m \u001b[0mself\u001b[0m\u001b[1;33m.\u001b[0m\u001b[0margs\u001b[0m\u001b[1;33m,\u001b[0m \u001b[0mself\u001b[0m\u001b[1;33m.\u001b[0m\u001b[0mkwds\u001b[0m \u001b[1;33m=\u001b[0m \u001b[0mfunc\u001b[0m\u001b[1;33m,\u001b[0m \u001b[0margs\u001b[0m\u001b[1;33m,\u001b[0m \u001b[0mkwds\u001b[0m\u001b[1;33m\u001b[0m\u001b[1;33m\u001b[0m\u001b[0m\n\u001b[0;32m     85\u001b[0m         \u001b[1;31m# Issue 19330: ensure context manager instances have good docstrings\u001b[0m\u001b[1;33m\u001b[0m\u001b[1;33m\u001b[0m\u001b[1;33m\u001b[0m\u001b[0m\n\u001b[1;32m---> 86\u001b[1;33m         \u001b[0mdoc\u001b[0m \u001b[1;33m=\u001b[0m \u001b[0mgetattr\u001b[0m\u001b[1;33m(\u001b[0m\u001b[0mfunc\u001b[0m\u001b[1;33m,\u001b[0m \u001b[1;34m\"__doc__\"\u001b[0m\u001b[1;33m,\u001b[0m \u001b[1;32mNone\u001b[0m\u001b[1;33m)\u001b[0m\u001b[1;33m\u001b[0m\u001b[1;33m\u001b[0m\u001b[0m\n\u001b[0m\u001b[0;32m     87\u001b[0m         \u001b[1;32mif\u001b[0m \u001b[0mdoc\u001b[0m \u001b[1;32mis\u001b[0m \u001b[1;32mNone\u001b[0m\u001b[1;33m:\u001b[0m\u001b[1;33m\u001b[0m\u001b[1;33m\u001b[0m\u001b[0m\n\u001b[0;32m     88\u001b[0m             \u001b[0mdoc\u001b[0m \u001b[1;33m=\u001b[0m \u001b[0mtype\u001b[0m\u001b[1;33m(\u001b[0m\u001b[0mself\u001b[0m\u001b[1;33m)\u001b[0m\u001b[1;33m.\u001b[0m\u001b[0m__doc__\u001b[0m\u001b[1;33m\u001b[0m\u001b[1;33m\u001b[0m\u001b[0m\n",
      "\u001b[1;31mKeyboardInterrupt\u001b[0m: "
     ]
    }
   ],
   "source": [
    "x = 0\n",
    "xs = np.arange(0.0000001,1,0.0000001)\n",
    "err = 0\n",
    "x_err = []\n",
    "ts = []\n",
    "for i in xs:\n",
    "    x+=1\n",
    "    try:\n",
    "        Steffsen(i, 10**(-15), c_w)\n",
    "    except Exception as e:\n",
    "        err+=1\n",
    "        x_err.append(i)\n",
    "    else:\n",
    "        ts.append(i)"
   ]
  },
  {
   "cell_type": "code",
   "execution_count": null,
   "metadata": {},
   "outputs": [],
   "source": [
    "Steffsen(0.015)"
   ]
  },
  {
   "cell_type": "code",
   "execution_count": null,
   "metadata": {},
   "outputs": [],
   "source": [
    "print(min(ts))"
   ]
  },
  {
   "cell_type": "code",
   "execution_count": 169,
   "metadata": {},
   "outputs": [
    {
     "name": "stdout",
     "output_type": "stream",
     "text": [
      "0.010459951994203465\n",
      "0.010207229360434056\n",
      "0.009236265089107576\n",
      "0.007081147977336499\n",
      "0.0039052949467084375\n",
      "0.0011300763284971538\n",
      "9.197265507232544e-05\n",
      "6.039490525466817e-07\n",
      "2.602362769721367e-11\n",
      "0.0\n",
      "9 0.010503363998367649\n"
     ]
    }
   ],
   "source": [
    "try:\n",
    "    k, x = Steffsen(0.0104815, 10*(-15), c_w)\n",
    "except Exception as e:\n",
    "    print(\"err:\",e)\n",
    "print(k,x)"
   ]
  },
  {
   "cell_type": "code",
   "execution_count": null,
   "metadata": {},
   "outputs": [
    {
     "name": "stdout",
     "output_type": "stream",
     "text": [
      "[[0.24684526458393385, -1.6395550963330692, -0.8379210849841527, -0.3406241983042353, -0.0598029986535451, 0.0900497684017445, 0.014287893698153198, -0.022962564897515136, -0.004389063420823902, 0.0049364231689938975, 0.00027043941392079773, -0.0020601211796371643, -0.0008950432941432496, -0.0003123525575983166, -2.0969228044620536e-05, 0.00012473192865591898, 5.1880559265526927e-05, 1.5455467853087157e-05, -2.7569295344420652e-06, 6.349256798543479e-06, 1.7961605411898063e-06, -4.803852693413546e-07, 6.578874423013303e-07, 8.87510385183532e-08, -1.9581712784599858e-07, -5.353304821653637e-08, 1.7608995150908413e-08, -1.796202653281398e-08, -1.765148027743635e-10, 8.716240174067025e-09, 4.269862685646331e-09, 2.0466739414359836e-09, 9.3507956933081e-10, 3.792806069213839e-10, 1.013837902519299e-10, -3.75663944396365e-11, 3.19086979061467e-11, -2.8279600883251987e-12, 1.453948073049105e-11, 5.856648499502626e-12, 1.5134560271690134e-12, -6.572520305780927e-13, 4.263256414560601e-13, -1.1368683772161603e-13, 1.5631940186722204e-13, 1.9539925233402755e-14], [91.43502854859295, -2.657216422811186, 4.278826490535847, -1.3291219379165948, -0.5947728080118804, 0.15822186498522584, -0.014874274708773783, -0.00034423996689803005, 7.64729735536207e-07, -3.923972258235153e-11, 1.7763568394002505e-15, 0.0, 0.0, 0, 0, 0, 0, 0, 0, 0, 0, 0, 0, 0, 0, 0, 0, 0, 0, 0, 0, 0, 0, 0, 0, 0, 0, 0, 0, 0, 0, 0, 0, 0, 0, 0], [0.010459951994203465, 0.010207229360434056, 0.009236265089107576, 0.007081147977336499, 0.0039052949467084375, 0.0011300763284971538, 9.197265507232544e-05, 6.039490525466817e-07, 2.602362769721367e-11, 0.0, 0, 0, 0, 0, 0, 0, 0, 0, 0, 0, 0, 0, 0, 0, 0, 0, 0, 0, 0, 0, 0, 0, 0, 0, 0, 0, 0, 0, 0, 0, 0, 0, 0, 0, 0, 0], [0, 0, 0, 0, 0, 0, 0, 0, 0, 0, 0, 0, 0, 0, 0, 0, 0, 0, 0, 0, 0, 0, 0, 0, 0, 0, 0, 0, 0, 0, 0, 0, 0, 0, 0, 0, 0, 0, 0, 0, 0, 0, 0, 0, 0, 0], [0, 0, 0, 0, 0, 0, 0, 0, 0, 0, 0, 0, 0, 0, 0, 0, 0, 0, 0, 0, 0, 0, 0, 0, 0, 0, 0, 0, 0, 0, 0, 0, 0, 0, 0, 0, 0, 0, 0, 0, 0, 0, 0, 0, 0, 0], [0, 0, 0, 0, 0, 0, 0, 0, 0, 0, 0, 0, 0, 0, 0, 0, 0, 0, 0, 0, 0, 0, 0, 0, 0, 0, 0, 0, 0, 0, 0, 0, 0, 0, 0, 0, 0, 0, 0, 0, 0, 0, 0, 0, 0, 0]]\n"
     ]
    }
   ],
   "source": [
    "print(y_all)"
   ]
  },
  {
   "cell_type": "code",
   "execution_count": null,
   "metadata": {},
   "outputs": [],
   "source": []
  },
  {
   "cell_type": "code",
   "execution_count": null,
   "metadata": {},
   "outputs": [
    {
     "data": {
      "text/plain": [
       "0.0"
      ]
     },
     "execution_count": 22,
     "metadata": {},
     "output_type": "execute_result"
    }
   ],
   "source": [
    "c_w(0.010503363998367649)"
   ]
  },
  {
   "cell_type": "markdown",
   "metadata": {},
   "source": [
    "原式为：\n",
    "$$\n",
    "\\frac{1}{ \\sqrt{f} }+2lg( \\frac{\\epsilon}{3.7D} + \\frac{2.51}{Re\\sqrt{f}}) = 0\n",
    "$$"
   ]
  },
  {
   "cell_type": "markdown",
   "metadata": {},
   "source": [
    "更换为迭代格式为：\n",
    "$$\n",
    "(\\frac{1}{2lg( \\frac{\\epsilon}{3.7D} + \\frac{2.51}{Re\\sqrt{f}})} )^2=f\n",
    "$$"
   ]
  },
  {
   "cell_type": "code",
   "execution_count": null,
   "metadata": {},
   "outputs": [],
   "source": [
    "# cw_p\n",
    "def c_w_p(f,eps=0.00002,d=0.6,re=5813924.33689002):\n",
    "    tmp = 2*math.log10( eps/(3.7*d)+2.51/( re*math.sqrt(f)) )\n",
    "    return (1/tmp)**2"
   ]
  },
  {
   "cell_type": "markdown",
   "metadata": {},
   "source": [
    "## Picard"
   ]
  },
  {
   "cell_type": "code",
   "execution_count": 174,
   "metadata": {},
   "outputs": [],
   "source": [
    "# Picard迭代法\n",
    "def picard(x0,tol,func):\n",
    "    start = time.time()\n",
    "    x1 = func(x0)\n",
    "    xs = [x0,x1]\n",
    "    k = 1\n",
    "    ks = [0,k]\n",
    "    while abs(x0-x1)>tol:\n",
    "        x2 = func(x1)\n",
    "        x0 = x1\n",
    "        x1 = x2\n",
    "        k+=1\n",
    "        ks.append(k)\n",
    "        xs.append(x1)\n",
    "    print(\"Run time is:\", time.time()-start)\n",
    "    ys = [c_w(i) for i in xs]\n",
    "\n",
    "    plt.plot(ks,ys)\n",
    "    plt.plot(ks, [0]*len(ks))\n",
    "    plt.xlabel(\"k\")\n",
    "    plt.ylabel(\"c_w(f)\")\n",
    "    plt.title(\"Fig5: Picard Method k-c_w(f) image\")\n",
    "    plt.show()\n",
    "    for i in range(len(ys)):\n",
    "        y_all[3][i] = ys[i]\n",
    "        print(ys[i])\n",
    "    return k, x1\n",
    "    "
   ]
  },
  {
   "cell_type": "code",
   "execution_count": null,
   "metadata": {},
   "outputs": [
    {
     "data": {
      "text/plain": [
       "0.010502945549672484"
      ]
     },
     "execution_count": 33,
     "metadata": {},
     "output_type": "execute_result"
    }
   ],
   "source": [
    "c_w_p(0.010518132169925443)"
   ]
  },
  {
   "cell_type": "code",
   "execution_count": 175,
   "metadata": {},
   "outputs": [
    {
     "name": "stdout",
     "output_type": "stream",
     "text": [
      "Run time is: 0.0\n"
     ]
    },
    {
     "data": {
      "image/png": "[encoded data removed]",
      "text/plain": [
       "<Figure size 640x480 with 1 Axes>"
      ]
     },
     "metadata": {},
     "output_type": "display_data"
    },
    {
     "name": "stdout",
     "output_type": "stream",
     "text": [
      "308.553680294862\n",
      "-2.144546095300705\n",
      "0.06292786611412104\n",
      "-0.001783032730763523\n",
      "5.05718472343375e-05\n",
      "-1.4343199374877713e-06\n",
      "4.068025027947897e-08\n",
      "-1.1537757416135719e-09\n",
      "3.2724045695431414e-11\n",
      "-9.29034627006331e-13\n",
      "2.6645352591003757e-14\n",
      "0.0\n"
     ]
    },
    {
     "data": {
      "text/plain": [
       "(11, 0.010503363998367649)"
      ]
     },
     "execution_count": 175,
     "metadata": {},
     "output_type": "execute_result"
    }
   ],
   "source": [
    "picard(0.00001, 10**(-15),c_w_p)"
   ]
  },
  {
   "cell_type": "code",
   "execution_count": 197,
   "metadata": {},
   "outputs": [],
   "source": [
    "for i in range(46):\n",
    "    y_all[4][i] = 0"
   ]
  },
  {
   "cell_type": "code",
   "execution_count": null,
   "metadata": {},
   "outputs": [
    {
     "name": "stdout",
     "output_type": "stream",
     "text": [
      "[[0.24684526458393385, -1.6395550963330692, -0.8379210849841527, -0.3406241983042353, -0.0598029986535451, 0.0900497684017445, 0.014287893698153198, -0.022962564897515136, -0.004389063420823902, 0.0049364231689938975, 0.00027043941392079773, -0.0020601211796371643, -0.0008950432941432496, -0.0003123525575983166, -2.0969228044620536e-05, 0.00012473192865591898, 5.1880559265526927e-05, 1.5455467853087157e-05, -2.7569295344420652e-06, 6.349256798543479e-06, 1.7961605411898063e-06, -4.803852693413546e-07, 6.578874423013303e-07, 8.87510385183532e-08, -1.9581712784599858e-07, -5.353304821653637e-08, 1.7608995150908413e-08, -1.796202653281398e-08, -1.765148027743635e-10, 8.716240174067025e-09, 4.269862685646331e-09, 2.0466739414359836e-09, 9.3507956933081e-10, 3.792806069213839e-10, 1.013837902519299e-10, -3.75663944396365e-11, 3.19086979061467e-11, -2.8279600883251987e-12, 1.453948073049105e-11, 5.856648499502626e-12, 1.5134560271690134e-12, -6.572520305780927e-13, 4.263256414560601e-13, -1.1368683772161603e-13, 1.5631940186722204e-13, 1.9539925233402755e-14], [91.43502854859295, -2.657216422811186, 4.278826490535847, -1.3291219379165948, -0.5947728080118804, 0.15822186498522584, -0.014874274708773783, -0.00034423996689803005, 7.64729735536207e-07, -3.923972258235153e-11, 1.7763568394002505e-15, 0.0, 0.0, 0, 0, 0, 0, 0, 0, 0, 0, 0, 0, 0, 0, 0, 0, 0, 0, 0, 0, 0, 0, 0, 0, 0, 0, 0, 0, 0, 0, 0, 0, 0, 0, 0], [0.010459951994203465, 0.010207229360434056, 0.009236265089107576, 0.007081147977336499, 0.0039052949467084375, 0.0011300763284971538, 9.197265507232544e-05, 6.039490525466817e-07, 2.602362769721367e-11, 0.0, 0, 0, 0, 0, 0, 0, 0, 0, 0, 0, 0, 0, 0, 0, 0, 0, 0, 0, 0, 0, 0, 0, 0, 0, 0, 0, 0, 0, 0, 0, 0, 0, 0, 0, 0, 0], [-10.090613018537868, 0.3426062206493885, -0.009666012882719954, 0.00027418878704388305, -7.77652208761026e-06, 2.2055810333654335e-07, -6.2554779134416094e-09, 1.7741719204877882e-10, -5.030642569181509e-12, 1.4210854715202004e-13, -3.552713678800501e-15, 0, 0, 0, 0, 0, 0, 0, 0, 0, 0, 0, 0, 0, 0, 0, 0, 0, 0, 0, 0, 0, 0, 0, 0, 0, 0, 0, 0, 0, 0, 0, 0, 0, 0, 0], [0, 0, 0, 0, 0, 0, 0, 0, 0, 0, 0, 0, 0, 0, 0, 0, 0, 0, 0, 0, 0, 0, 0, 0, 0, 0, 0, 0, 0, 0, 0, 0, 0, 0, 0, 0, 0, 0, 0, 0, 0, 0, 0, 0, 0, 0], [0, 0, 0, 0, 0, 0, 0, 0, 0, 0, 0, 0, 0, 0, 0, 0, 0, 0, 0, 0, 0, 0, 0, 0, 0, 0, 0, 0, 0, 0, 0, 0, 0, 0, 0, 0, 0, 0, 0, 0, 0, 0, 0, 0, 0, 0]]\n"
     ]
    }
   ],
   "source": [
    "print(y_all)"
   ]
  },
  {
   "cell_type": "markdown",
   "metadata": {},
   "source": [
    "## Aitken"
   ]
  },
  {
   "cell_type": "markdown",
   "metadata": {},
   "source": [
    "非常快！而且由于迭代格式较好，其最终的范围 也很大"
   ]
  },
  {
   "cell_type": "code",
   "execution_count": 198,
   "metadata": {},
   "outputs": [],
   "source": [
    "def Aitken_l(x0, tol,func):\n",
    "    plt.xlabel(\"k\")\n",
    "    plt.ylabel(\"c_w(f)\")\n",
    "    plt.title(\"Fig6: Aitken Method k-c_w(f)\")\n",
    "    start = time.time()\n",
    "    x1 = func(x0)\n",
    "    x2 = func(x1)\n",
    "    x3 = x2 - (x2-x1)**2/(x2-2*x1+x0)\n",
    "    k = 1\n",
    "    ys = [c_w(x0), c_w(x3)]\n",
    "    ks = [0, k]\n",
    "    while abs(x3-x0)>=tol:\n",
    "        x0 = x3\n",
    "        x1 = func(x0)\n",
    "        x2 = func(x1)\n",
    "        if x2-2*x1+x0 == 0:\n",
    "            print(\"run time is:\", time.time()-start)\n",
    "            for i in range(len(ys)):\n",
    "                y_all[4][i] = ys[i]\n",
    "                print(ys[i])\n",
    "            plt.plot(ks,ys)\n",
    "            plt.show()\n",
    "            return x3,k\n",
    "        x3 = x2 - (x2-x1)**2/(x2-2*x1+x0)\n",
    "        k+=1\n",
    "        ks.append(k)\n",
    "        ys.append(c_w(x3))\n",
    "    print(\"run time is:\", time.time()-start)\n",
    "    plt.plot(ks,ys)\n",
    "    plt.show()\n",
    "    for i in range(len(ys)):\n",
    "        y_all[4][i] = ys[i]\n",
    "        print(ys[i])\n",
    "    return x3,k"
   ]
  },
  {
   "cell_type": "code",
   "execution_count": 199,
   "metadata": {},
   "outputs": [
    {
     "name": "stdout",
     "output_type": "stream",
     "text": [
      "run time is: 0.0\n",
      "308.553680294862\n",
      "-0.7334181816325245\n",
      "-5.84851248977003e-05\n",
      "-3.694822225952521e-13\n",
      "0.0\n"
     ]
    },
    {
     "data": {
      "image/png": "[encoded data removed]",
      "text/plain": [
       "<Figure size 640x480 with 1 Axes>"
      ]
     },
     "metadata": {},
     "output_type": "display_data"
    },
    {
     "data": {
      "text/plain": [
       "(0.010503363998367649, 4)"
      ]
     },
     "execution_count": 199,
     "metadata": {},
     "output_type": "execute_result"
    }
   ],
   "source": [
    "Aitken_l(0.00001,10*(-15),c_w_p)"
   ]
  },
  {
   "cell_type": "code",
   "execution_count": 200,
   "metadata": {},
   "outputs": [
    {
     "name": "stdout",
     "output_type": "stream",
     "text": [
      "[[0.24684526458393385, 1.6395550963330692, 0.8379210849841527, 0.3406241983042353, 0.0598029986535451, 0.0900497684017445, 0.014287893698153198, 0.022962564897515136, 0.004389063420823902, 0.0049364231689938975, 0.00027043941392079773, 0.0020601211796371643, 0.0008950432941432496, 0.0003123525575983166, 2.0969228044620536e-05, 0.00012473192865591898, 5.1880559265526927e-05, 1.5455467853087157e-05, 2.7569295344420652e-06, 6.349256798543479e-06, 1.7961605411898063e-06, 4.803852693413546e-07, 6.578874423013303e-07, 8.87510385183532e-08, 1.9581712784599858e-07, 5.353304821653637e-08, 1.7608995150908413e-08, 1.796202653281398e-08, 1.765148027743635e-10, 8.716240174067025e-09, 4.269862685646331e-09, 2.0466739414359836e-09, 9.3507956933081e-10, 3.792806069213839e-10, 1.013837902519299e-10, 3.75663944396365e-11, 3.19086979061467e-11, 2.8279600883251987e-12, 1.453948073049105e-11, 5.856648499502626e-12, 1.5134560271690134e-12, 6.572520305780927e-13, 4.263256414560601e-13, 1.1368683772161603e-13, 1.5631940186722204e-13, 1.9539925233402755e-14], [91.43502854859295, 2.657216422811186, 4.278826490535847, 1.3291219379165948, 0.5947728080118804, 0.15822186498522584, 0.014874274708773783, 0.00034423996689803005, 7.64729735536207e-07, 3.923972258235153e-11, 1.7763568394002505e-15, 0.0, 0.0, 0, 0, 0, 0, 0, 0, 0, 0, 0, 0, 0, 0, 0, 0, 0, 0, 0, 0, 0, 0, 0, 0, 0, 0, 0, 0, 0, 0, 0, 0, 0, 0, 0], [0.010459951994203465, 0.010207229360434056, 0.009236265089107576, 0.007081147977336499, 0.0039052949467084375, 0.0011300763284971538, 9.197265507232544e-05, 6.039490525466817e-07, 2.602362769721367e-11, 0.0, 0, 0, 0, 0, 0, 0, 0, 0, 0, 0, 0, 0, 0, 0, 0, 0, 0, 0, 0, 0, 0, 0, 0, 0, 0, 0, 0, 0, 0, 0, 0, 0, 0, 0, 0, 0], [308.553680294862, 2.144546095300705, 0.06292786611412104, 0.001783032730763523, 5.05718472343375e-05, 1.4343199374877713e-06, 4.068025027947897e-08, 1.1537757416135719e-09, 3.2724045695431414e-11, 9.29034627006331e-13, 2.6645352591003757e-14, 0.0, 0, 0, 0, 0, 0, 0, 0, 0, 0, 0, 0, 0, 0, 0, 0, 0, 0, 0, 0, 0, 0, 0, 0, 0, 0, 0, 0, 0, 0, 0, 0, 0, 0, 0], [308.553680294862, -0.7334181816325245, -5.84851248977003e-05, -3.694822225952521e-13, 0.0, 0, 0, 0, 0, 0, 0, 0, 0, 0, 0, 0, 0, 0, 0, 0, 0, 0, 0, 0, 0, 0, 0, 0, 0, 0, 0, 0, 0, 0, 0, 0, 0, 0, 0, 0, 0, 0, 0, 0, 0, 0], [308.553680294862, 176.1201728026464, 99.59917298852038, 55.3909346195899, 29.886008818041873, 15.249608193543411, 6.993888638452878, 2.5827636795376065, 0.5927104987918081, 0.04527934992993288, 0.00030196980695151865, 1.3590165437449286e-08, 1.7763568394002505e-15, 0.0, 0, 0, 0, 0, 0, 0, 0, 0, 0, 0, 0, 0, 0, 0, 0, 0, 0, 0, 0, 0, 0, 0, 0, 0, 0, 0, 0, 0, 0, 0, 0, 0]]\n"
     ]
    }
   ],
   "source": [
    "print(y_all)"
   ]
  },
  {
   "cell_type": "code",
   "execution_count": null,
   "metadata": {},
   "outputs": [],
   "source": []
  },
  {
   "cell_type": "markdown",
   "metadata": {},
   "source": [
    "## Newton"
   ]
  },
  {
   "cell_type": "markdown",
   "metadata": {},
   "source": [
    "由于是切线，导致其如果结果过大，x会变为负数，解决方法为改变函数形式或者规定起始范围"
   ]
  },
  {
   "cell_type": "code",
   "execution_count": 178,
   "metadata": {},
   "outputs": [],
   "source": [
    "def newton_iter(x0,tol,func):\n",
    "    plt.xlabel(\"k\")\n",
    "    plt.ylabel(\"c_w(f)\")\n",
    "    plt.title(\"Fig7: Newton Method k-c_w(f) image\")\n",
    "    start = time.time()\n",
    "    x1 = x0 - func(x0)/derivative(func,x0,10**(-8))\n",
    "    xs = [c_w(x0), c_w(x1)]\n",
    "    k = 1\n",
    "    ks = [0, k]\n",
    "    while abs(x0-x1)>=tol:\n",
    "        x0 = x1\n",
    "        x1 = x0-func(x0)/derivative(func,x0,10**(-8))\n",
    "        k+=1\n",
    "        ks.append(k)\n",
    "        xs.append(c_w(x1))\n",
    "    print(\"Run time is:\",time.time()-start)\n",
    "    plt.plot(ks, xs)\n",
    "    plt.plot(ks, [0]*len(ks))\n",
    "    plt.show()\n",
    "    for i in range(len(xs)):\n",
    "            y_all[5][i] = xs[i]\n",
    "            print(xs[i])\n",
    "    return x1,k"
   ]
  },
  {
   "cell_type": "code",
   "execution_count": 179,
   "metadata": {},
   "outputs": [
    {
     "name": "stdout",
     "output_type": "stream",
     "text": [
      "Run time is: 0.0009999275207519531\n"
     ]
    },
    {
     "data": {
      "image/png": "[encoded data removed]",
      "text/plain": [
       "<Figure size 640x480 with 1 Axes>"
      ]
     },
     "metadata": {},
     "output_type": "display_data"
    },
    {
     "name": "stdout",
     "output_type": "stream",
     "text": [
      "308.553680294862\n",
      "176.1201728026464\n",
      "99.59917298852038\n",
      "55.3909346195899\n",
      "29.886008818041873\n",
      "15.249608193543411\n",
      "6.993888638452878\n",
      "2.5827636795376065\n",
      "0.5927104987918081\n",
      "0.04527934992993288\n",
      "0.00030196980695151865\n",
      "1.3590165437449286e-08\n",
      "1.7763568394002505e-15\n",
      "0.0\n"
     ]
    },
    {
     "data": {
      "text/plain": [
       "(0.01050336399836765, 13)"
      ]
     },
     "execution_count": 179,
     "metadata": {},
     "output_type": "execute_result"
    }
   ],
   "source": [
    "newton_iter(0.00001, 10**(-15),c_w)"
   ]
  },
  {
   "cell_type": "code",
   "execution_count": null,
   "metadata": {},
   "outputs": [
    {
     "name": "stdout",
     "output_type": "stream",
     "text": [
      "[[0.24684526458393385, -1.6395550963330692, -0.8379210849841527, -0.3406241983042353, -0.0598029986535451, 0.0900497684017445, 0.014287893698153198, -0.022962564897515136, -0.004389063420823902, 0.0049364231689938975, 0.00027043941392079773, -0.0020601211796371643, -0.0008950432941432496, -0.0003123525575983166, -2.0969228044620536e-05, 0.00012473192865591898, 5.1880559265526927e-05, 1.5455467853087157e-05, -2.7569295344420652e-06, 6.349256798543479e-06, 1.7961605411898063e-06, -4.803852693413546e-07, 6.578874423013303e-07, 8.87510385183532e-08, -1.9581712784599858e-07, -5.353304821653637e-08, 1.7608995150908413e-08, -1.796202653281398e-08, -1.765148027743635e-10, 8.716240174067025e-09, 4.269862685646331e-09, 2.0466739414359836e-09, 9.3507956933081e-10, 3.792806069213839e-10, 1.013837902519299e-10, -3.75663944396365e-11, 3.19086979061467e-11, -2.8279600883251987e-12, 1.453948073049105e-11, 5.856648499502626e-12, 1.5134560271690134e-12, -6.572520305780927e-13, 4.263256414560601e-13, -1.1368683772161603e-13, 1.5631940186722204e-13, 1.9539925233402755e-14], [91.43502854859295, -2.657216422811186, 4.278826490535847, -1.3291219379165948, -0.5947728080118804, 0.15822186498522584, -0.014874274708773783, -0.00034423996689803005, 7.64729735536207e-07, -3.923972258235153e-11, 1.7763568394002505e-15, 0.0, 0.0, 0, 0, 0, 0, 0, 0, 0, 0, 0, 0, 0, 0, 0, 0, 0, 0, 0, 0, 0, 0, 0, 0, 0, 0, 0, 0, 0, 0, 0, 0, 0, 0, 0], [0.010459951994203465, 0.010207229360434056, 0.009236265089107576, 0.007081147977336499, 0.0039052949467084375, 0.0011300763284971538, 9.197265507232544e-05, 6.039490525466817e-07, 2.602362769721367e-11, 0.0, 0, 0, 0, 0, 0, 0, 0, 0, 0, 0, 0, 0, 0, 0, 0, 0, 0, 0, 0, 0, 0, 0, 0, 0, 0, 0, 0, 0, 0, 0, 0, 0, 0, 0, 0, 0], [308.553680294862, -0.7334181816325245, -5.84851248977003e-05, -3.694822225952521e-13, 0.0, 2.2055810333654335e-07, -6.2554779134416094e-09, 1.7741719204877882e-10, -5.030642569181509e-12, 1.4210854715202004e-13, -3.552713678800501e-15, 0, 0, 0, 0, 0, 0, 0, 0, 0, 0, 0, 0, 0, 0, 0, 0, 0, 0, 0, 0, 0, 0, 0, 0, 0, 0, 0, 0, 0, 0, 0, 0, 0, 0, 0], [308.553680294862, 176.1201728026464, 99.59917298852038, 55.3909346195899, 29.886008818041873, 15.249608193543411, 6.993888638452878, 2.5827636795376065, 0.5927104987918081, 0.04527934992993288, 0.00030196980695151865, 1.3590165437449286e-08, 1.7763568394002505e-15, 0.0, 0, 0, 0, 0, 0, 0, 0, 0, 0, 0, 0, 0, 0, 0, 0, 0, 0, 0, 0, 0, 0, 0, 0, 0, 0, 0, 0, 0, 0, 0, 0, 0], [0, 0, 0, 0, 0, 0, 0, 0, 0, 0, 0, 0, 0, 0, 0, 0, 0, 0, 0, 0, 0, 0, 0, 0, 0, 0, 0, 0, 0, 0, 0, 0, 0, 0, 0, 0, 0, 0, 0, 0, 0, 0, 0, 0, 0, 0]]\n"
     ]
    }
   ],
   "source": [
    "print(y_all)"
   ]
  },
  {
   "cell_type": "code",
   "execution_count": null,
   "metadata": {},
   "outputs": [
    {
     "name": "stdout",
     "output_type": "stream",
     "text": [
      "0.023659343933453217\n"
     ]
    }
   ],
   "source": [
    "tol = 10**(-15)\n",
    "left = 0.0001\n",
    "right = 0.04\n",
    "mid = (left+right)/2\n",
    "while abs(left-mid)>tol:\n",
    "    try:\n",
    "        newton_iter(mid, 10**(-15),c_w)\n",
    "    except:\n",
    "        right = mid\n",
    "    else:\n",
    "        left = mid\n",
    "    mid = (left+right)/2\n",
    "print(mid)"
   ]
  },
  {
   "cell_type": "code",
   "execution_count": null,
   "metadata": {},
   "outputs": [
    {
     "data": {
      "text/plain": [
       "(0.010503363998367649, 22)"
      ]
     },
     "execution_count": 64,
     "metadata": {},
     "output_type": "execute_result"
    }
   ],
   "source": [
    "newton_iter(0.023659343933453217, 10**(-15),c_w)"
   ]
  },
  {
   "cell_type": "code",
   "execution_count": 186,
   "metadata": {},
   "outputs": [],
   "source": [
    "from pylab import *\n",
    "mpl.rcParams['font.sans-serif'] = ['SimHei'] # 指定默认字体（解决中文无法显示的问题）\n",
    "mpl.rcParams['axes.unicode_minus'] = False # 解决保存图像时负号“-”显示方块的问题\n"
   ]
  },
  {
   "cell_type": "code",
   "execution_count": 193,
   "metadata": {},
   "outputs": [],
   "source": [
    "for i in range(6):\n",
    "    for j in range(46):\n",
    "        y_all[i][j] = abs(y_all[i][j])"
   ]
  },
  {
   "cell_type": "code",
   "execution_count": 210,
   "metadata": {},
   "outputs": [
    {
     "data": {
      "image/png": "[encoded data removed]",
      "text/plain": [
       "<Figure size 800x600 with 1 Axes>"
      ]
     },
     "metadata": {},
     "output_type": "display_data"
    }
   ],
   "source": [
    "plt.figure(figsize=(8, 6))\n",
    "plt.plot(ks[5:],y_all[0][5:], label = \"Bisect\")\n",
    "plt.plot(ks[5:],y_all[1][5:], label = \"Secant\")\n",
    "plt.plot(ks[5:],y_all[2][5:], label = \"Steffsen\")\n",
    "plt.plot(ks[5:],y_all[3][5:], label = \"Picard\")\n",
    "plt.plot(ks[5:],y_all[4][5:], label = \"Aitken\")\n",
    "plt.plot(ks[5:],y_all[5][5:], label = \"Newton\")\n",
    "plt.legend(loc=0)\n",
    "plt.xlabel(\"k\")\n",
    "plt.ylabel(\"error\")\n",
    "plt.title(\"Fig9: Error in different algorithm 5 times later\")\n",
    "\n",
    "plt.ylim(top = 0.5, bottom=-0.1)\n",
    "plt.show()"
   ]
  },
  {
   "cell_type": "code",
   "execution_count": 203,
   "metadata": {},
   "outputs": [
    {
     "name": "stdout",
     "output_type": "stream",
     "text": [
      "[[0.24684526458393385, 1.6395550963330692, 0.8379210849841527, 0.3406241983042353, 0.0598029986535451, 0.0900497684017445, 0.014287893698153198, 0.022962564897515136, 0.004389063420823902, 0.0049364231689938975, 0.00027043941392079773, 0.0020601211796371643, 0.0008950432941432496, 0.0003123525575983166, 2.0969228044620536e-05, 0.00012473192865591898, 5.1880559265526927e-05, 1.5455467853087157e-05, 2.7569295344420652e-06, 6.349256798543479e-06, 1.7961605411898063e-06, 4.803852693413546e-07, 6.578874423013303e-07, 8.87510385183532e-08, 1.9581712784599858e-07, 5.353304821653637e-08, 1.7608995150908413e-08, 1.796202653281398e-08, 1.765148027743635e-10, 8.716240174067025e-09, 4.269862685646331e-09, 2.0466739414359836e-09, 9.3507956933081e-10, 3.792806069213839e-10, 1.013837902519299e-10, 3.75663944396365e-11, 3.19086979061467e-11, 2.8279600883251987e-12, 1.453948073049105e-11, 5.856648499502626e-12, 1.5134560271690134e-12, 6.572520305780927e-13, 4.263256414560601e-13, 1.1368683772161603e-13, 1.5631940186722204e-13, 1.9539925233402755e-14], [91.43502854859295, 2.657216422811186, 4.278826490535847, 1.3291219379165948, 0.5947728080118804, 0.15822186498522584, 0.014874274708773783, 0.00034423996689803005, 7.64729735536207e-07, 3.923972258235153e-11, 1.7763568394002505e-15, 0.0, 0.0, 0, 0, 0, 0, 0, 0, 0, 0, 0, 0, 0, 0, 0, 0, 0, 0, 0, 0, 0, 0, 0, 0, 0, 0, 0, 0, 0, 0, 0, 0, 0, 0, 0], [0.010459951994203465, 0.010207229360434056, 0.009236265089107576, 0.007081147977336499, 0.0039052949467084375, 0.0011300763284971538, 9.197265507232544e-05, 6.039490525466817e-07, 2.602362769721367e-11, 0.0, 0, 0, 0, 0, 0, 0, 0, 0, 0, 0, 0, 0, 0, 0, 0, 0, 0, 0, 0, 0, 0, 0, 0, 0, 0, 0, 0, 0, 0, 0, 0, 0, 0, 0, 0, 0], [308.553680294862, 2.144546095300705, 0.06292786611412104, 0.001783032730763523, 5.05718472343375e-05, 1.4343199374877713e-06, 4.068025027947897e-08, 1.1537757416135719e-09, 3.2724045695431414e-11, 9.29034627006331e-13, 2.6645352591003757e-14, 0.0, 0, 0, 0, 0, 0, 0, 0, 0, 0, 0, 0, 0, 0, 0, 0, 0, 0, 0, 0, 0, 0, 0, 0, 0, 0, 0, 0, 0, 0, 0, 0, 0, 0, 0], [308.553680294862, -0.7334181816325245, -5.84851248977003e-05, -3.694822225952521e-13, 0.0, 0, 0, 0, 0, 0, 0, 0, 0, 0, 0, 0, 0, 0, 0, 0, 0, 0, 0, 0, 0, 0, 0, 0, 0, 0, 0, 0, 0, 0, 0, 0, 0, 0, 0, 0, 0, 0, 0, 0, 0, 0], [308.553680294862, 176.1201728026464, 99.59917298852038, 55.3909346195899, 29.886008818041873, 15.249608193543411, 6.993888638452878, 2.5827636795376065, 0.5927104987918081, 0.04527934992993288, 0.00030196980695151865, 1.3590165437449286e-08, 1.7763568394002505e-15, 0.0, 0, 0, 0, 0, 0, 0, 0, 0, 0, 0, 0, 0, 0, 0, 0, 0, 0, 0, 0, 0, 0, 0, 0, 0, 0, 0, 0, 0, 0, 0, 0, 0]]\n"
     ]
    }
   ],
   "source": [
    "print(y_all)"
   ]
  },
  {
   "cell_type": "code",
   "execution_count": 189,
   "metadata": {},
   "outputs": [
    {
     "data": {
      "text/plain": [
       "1e-13"
      ]
     },
     "execution_count": 189,
     "metadata": {},
     "output_type": "execute_result"
    }
   ],
   "source": [
    "1e-13"
   ]
  },
  {
   "cell_type": "code",
   "execution_count": 190,
   "metadata": {},
   "outputs": [
    {
     "name": "stdout",
     "output_type": "stream",
     "text": [
      "[1e-13]\n"
     ]
    }
   ],
   "source": [
    "kkk = [1e-13]\n",
    "print(kkk)"
   ]
  },
  {
   "cell_type": "code",
   "execution_count": null,
   "metadata": {},
   "outputs": [],
   "source": []
  }
 ],
 "metadata": {
  "interpreter": {
   "hash": "a678431773fbb903fbabe1b9e687cfa6acb1f012a2acb49c1670820e6da9d2c0"
  },
  "kernelspec": {
   "display_name": "Python 3.8.5 ('base')",
   "language": "python",
   "name": "python3"
  },
  "language_info": {
   "codemirror_mode": {
    "name": "ipython",
    "version": 3
   },
   "file_extension": ".py",
   "mimetype": "text/x-python",
   "name": "python",
   "nbconvert_exporter": "python",
   "pygments_lexer": "ipython3",
   "version": "3.8.5"
  },
  "orig_nbformat": 4
 },
 "nbformat": 4,
 "nbformat_minor": 2
}
